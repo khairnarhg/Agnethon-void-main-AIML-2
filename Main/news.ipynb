{
 "cells": [
  {
   "cell_type": "code",
   "execution_count": 6,
   "metadata": {},
   "outputs": [
    {
     "name": "stdout",
     "output_type": "stream",
     "text": [
      "News 1 ) None\n",
      "URL https://www.thehindu.com/sci-tech/technology/googles-pause-on-geminis-ability-to-generate-ai-images-of-people-explained/article67881936.ece\n",
      "News 2 ) An activist claims Navalny may have been killed with a single punch to heart.\n",
      "New Delhi: Russian opposition leader Alexei Navalny may have been killed with a single punch to the heart - an old metho… [+3288 chars]\n",
      "URL https://www.ndtv.com/world-news/putin-critic-alexei-navalny-may-have-been-killed-with-single-punch-to-heart-claims-activist-vladimir-osechkin-5119199\n",
      "News 3 ) However, in the quantum realm, or at the atomic scale, how the gravitational force works is not yet fully understood, even as it is believed that particles and forces at this scale interact different… [+2035 chars]\n",
      "URL https://www.deccanherald.com/science/scientists-measure-gravity-at-microscopic-scale-say-it-paves-way-for-understanding-quantum-gravity-2908728\n",
      "News 4 ) Trinamool Congress leader Sheikh Shahjahan and his associates tortured tribals for voting against the party in West Bengal's Sandeshkhali and forcibly took MNREGA wages from them, the National Commis… [+3524 chars]\n",
      "URL https://www.hindustantimes.com/india-news/sheikh-shahjahan-his-associates-tortured-tribals-took-wages-sandeshkhali-probe-team-101708772218221.html\n",
      "News 5 ) Sanjay Leela Bhansali is celebrating his 61st birthday on Saturday. To wish him on his special day, his Heeramandi actors Sonakshi Sinha, Aditi Rao Hydari and Richa Chadha took to Instagram to share … [+2913 chars]\n",
      "URL https://www.hindustantimes.com/entertainment/bollywood/heeramandi-bts-pics-sanjay-leela-bhansali-birthday-sonakshi-sinha-aditi-rao-hydari-richa-chadha-101708771737055.html\n",
      "News 6 ) None\n",
      "URL https://news.google.com/rss/articles/CBMijwFodHRwczovL3Nwb3J0cy5uZHR2LmNvbS9jcmlja2V0L2luZGlhLXZzLWVuZ2xhbmQtbGl2ZS1zY29yZS1mb3VydGgtdGVzdC1kYXktMi0yNHRoLWZlYnJ1YXJ5LTIwMjQtaW5kLXZzLWVuZy00dGgtdGVzdC1tYXRjaC1saXZlLXVwZGF0ZXMtNTExNTI2MNIBlQFodHRwczovL3Nwb3J0cy5uZHR2LmNvbS9jcmlja2V0L2luZGlhLXZzLWVuZ2xhbmQtbGl2ZS1zY29yZS1mb3VydGgtdGVzdC1kYXktMi0yNHRoLWZlYnJ1YXJ5LTIwMjQtaW5kLXZzLWVuZy00dGgtdGVzdC1tYXRjaC1saXZlLXVwZGF0ZXMtNTExNTI2MC9hbXAvMQ\n",
      "News 7 ) Hyderabad: Telugu Desam president Chandrababu Naidu and Jana Sena Party chief Pawan Kalyan have announced their first list of 118 candidates for the Andhra Pradesh assembly elections, with 94 seats c… [+2199 chars]\n",
      "URL https://www.ndtv.com/india-news/chandrababu-naidu-pawan-kalyans-candidates-list-leaves-room-for-bjp-5118953\n",
      "News 8 ) The ongoing five-match Test series between India and England has seen plenty of action, drama and entertainment. The hosts currently lead 2-1, with England aiming to level the series in the ongoing f… [+2279 chars]\n",
      "URL https://www.hindustantimes.com/cricket/ian-bishop-passes-clear-cut-verdict-on-yashasvi-jaiswals-not-out-decision-that-left-entire-england-team-shocked-101708770253623.html\n",
      "News 9 ) West Bengal Congress president and MP Adhir Ranjan Chowdhury on Saturday trained guns at the Trinamool Congress over the issue of seat sharing within the INDIA alliance.\n",
      "Adhir Ranjan Chowdhury said … [+2524 chars]\n",
      "URL https://www.hindustantimes.com/india-news/adhir-ranjan-says-tmc-in-dilemma-over-seat-sharing-with-india-bloc-party-hits-back-101708767577274.html\n",
      "News 10 ) Dates are high in natural sugars like glucose, fructose, and sucrose, providing a quick energy boost to the brain.\n",
      "URL https://www.moneycontrol.com/web-stories/6-dry-fruits-that-help-sharpen-the-memory-1791211.html\n"
     ]
    }
   ],
   "source": [
    "import requests\n",
    "import json\n",
    "r=requests.get('https://newsapi.org/v2/top-headlines?country=in&apiKey=0ce7ce0d861141d0bbf3c527b076ba07')\n",
    "r\n",
    "data=json.loads(r.content)\n",
    "\n",
    "if r.status_code == 200:\n",
    "    for i in range(10):\n",
    "        News=data['articles'][i]['content']\n",
    "        New=data['articles'][i]['url']\n",
    "        print(\"News\",i+1,\")\",News)\n",
    "        print(\"URL\",New)\n",
    "        \n",
    "else:\n",
    "    print('Error:', r.status_code)"
   ]
  }
 ],
 "metadata": {
  "kernelspec": {
   "display_name": "Python 3",
   "language": "python",
   "name": "python3"
  },
  "language_info": {
   "codemirror_mode": {
    "name": "ipython",
    "version": 3
   },
   "file_extension": ".py",
   "mimetype": "text/x-python",
   "name": "python",
   "nbconvert_exporter": "python",
   "pygments_lexer": "ipython3",
   "version": "3.11.4"
  }
 },
 "nbformat": 4,
 "nbformat_minor": 2
}
